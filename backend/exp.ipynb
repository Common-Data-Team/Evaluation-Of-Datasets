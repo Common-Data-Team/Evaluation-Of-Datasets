{
 "cells": [
  {
   "cell_type": "code",
   "execution_count": 157,
   "metadata": {},
   "outputs": [],
   "source": [
    "import pandas as pd\n",
    "\n",
    "sep_symbols = [';', ',', '\\t', '.', '/', '\\\\']\n",
    "\n",
    "def read_auto_sep():\n",
    "    success = False\n",
    "    for sep in sep_symbols:\n",
    "        try:\n",
    "            df = pd.read_csv('soap.csv', sep=sep)\n",
    "            if len(df.columns) < 2:\n",
    "                raise ValueError(\"Skip\")\n",
    "        except:\n",
    "            continue\n",
    "        else:\n",
    "            success = True\n",
    "            break\n",
    "    if success:\n",
    "        return df\n",
    "    else:\n",
    "        raise ValueError(\"Can't detect separator\")\n",
    "\n",
    "df = read_auto_sep()\n",
    "df_drop = df.drop_duplicates()\n",
    "if df_drop.shape[0] > 1000:\n",
    "    df_drop = df_drop.sample(1000)"
   ]
  },
  {
   "cell_type": "code",
   "execution_count": 177,
   "metadata": {},
   "outputs": [],
   "source": [
    "chart_data = {}\n",
    "for column, _type in zip(df.columns, df.dtypes):\n",
    "    if _type == 'int':\n",
    "        chart_data[column] = {'type': 'line', 'data': df[column]}\n",
    "    elif _type == 'object':\n",
    "        sep = get_separator(df_drop[column])\n",
    "        is_cat = check_categories(df_drop[column])\n",
    "        if is_cat and not sep:\n",
    "            chart_data[column] = {'type': 'pie', 'data': {\n",
    "                unique: amount / df.shape[0] for unique, amount in df[column].value_counts().items()\n",
    "            }}\n",
    "            continue\n",
    "        if sep:\n",
    "            chart_data[column] = {'type': 'bar', 'data': value_counts(df[column].str.split(sep)).to_dict()}"
   ]
  },
  {
   "cell_type": "code",
   "execution_count": 178,
   "metadata": {},
   "outputs": [
    {
     "data": {
      "text/plain": [
       "{'Какими типами мыла вы пользуетесь на постоянной основе? ': {'type': 'bar',\n",
       "  'data': {'Классическое гигиеническое': 1825,\n",
       "   'Жидкое': 1827,\n",
       "   'Ручной работы': 1769,\n",
       "   'Хозяйственное': 1784,\n",
       "   'Пилинговое/Скрабовое': 1765,\n",
       "   'антибактериальное': 1,\n",
       "   'Детское': 1766,\n",
       "   'Мыло для бритья': 1759,\n",
       "   'Дегтярное': 1}},\n",
       " 'Какую марку мыла вы предпочитаете? ': {'type': 'bar',\n",
       "  'data': {'Dove': 1799,\n",
       "   'Synergetic': 1762,\n",
       "   'LUSH': 1765,\n",
       "   'Palmolive': 1780,\n",
       "   'Чистая линия': 1769,\n",
       "   'Мне все равно на бренд': 60,\n",
       "   'Safeguard': 1765,\n",
       "   'Бархатные ручки': 1764,\n",
       "   'Рецепты бабушки Агафьи': 1764,\n",
       "   'Bath and Body Works': 1,\n",
       "   'Лента': 1,\n",
       "   'Вiленскае барока ': 1,\n",
       "   'Каждый день/красная цена': 1759,\n",
       "   'Lusob': 1,\n",
       "   \"Johnson's\": 1758,\n",
       "   'иностранные эко-бренды': 1}},\n",
       " 'На что вы смотрите при выборе мыла?': {'type': 'bar',\n",
       "  'data': {'Цена': 1819,\n",
       "   'Запах': 1829,\n",
       "   'Тактильные ощущения': 1784,\n",
       "   'Полезные свойства': 1788,\n",
       "   'Внешний вид': 1785,\n",
       "   'чтобы сложнее уронить было': 1,\n",
       "   'Не сушащие свойства': 1}},\n",
       " 'Какую цену для классического мыла вы считаете приемлемой?(135г) ': {'type': 'pie',\n",
       "  'data': {'от 50 до 100 рублей': 0.972551130247578,\n",
       "   'до 50 рублей': 0.01883745963401507,\n",
       "   'от 100 до 200 рублей': 0.006458557588805167,\n",
       "   'свыше 200 рублей': 0.0016146393972012918,\n",
       "   '430': 0.0005382131324004305}},\n",
       " 'Какую цену для натурального мыла ручной работы вы считаете приемлемой? (150г)': {'type': 'pie',\n",
       "  'data': {'до 100 рублей': 0.9526372443487621,\n",
       "   'от 100 до 200 рублей': 0.023681377825618945,\n",
       "   'от 200 до 300 рублей': 0.016684607104413347,\n",
       "   'свыше 300 рублей': 0.005382131324004306,\n",
       "   'хз': 0.0005382131324004305,\n",
       "   'Не знаю': 0.0005382131324004305,\n",
       "   'смотря какие ингредиенты входят в состав и какая у него форма, так что от 200 и выше': 0.0005382131324004305}},\n",
       " 'Какую цену для эксклюзивного мыла ручной работы вы считаете приемлемой?': {'type': 'pie',\n",
       "  'data': {'до 100 рублей': 0.9467168998923574,\n",
       "   'от 200 до 300 рублей': 0.01991388589881593,\n",
       "   'свыше 400 рублей': 0.012917115177610334,\n",
       "   'от 300 до 400 рублей': 0.011840688912809472,\n",
       "   'от 100 до 200 рублей': 0.006996770721205597,\n",
       "   'хз': 0.0005382131324004305,\n",
       "   'Не считаю эксклюзивное мыло нормой': 0.0005382131324004305}}}"
      ]
     },
     "execution_count": 178,
     "metadata": {},
     "output_type": "execute_result"
    }
   ],
   "source": [
    "chart_data"
   ]
  },
  {
   "cell_type": "code",
   "execution_count": 171,
   "metadata": {},
   "outputs": [
    {
     "name": "stdout",
     "output_type": "stream",
     "text": [
      "до 100 рублей 1770\n",
      "от 100 до 200 рублей 44\n",
      "от 200 до 300 рублей 31\n",
      "свыше 300 рублей 10\n",
      "хз 1\n",
      "Не знаю 1\n",
      "смотря какие ингредиенты входят в состав и какая у него форма, так что от 200 и выше 1\n"
     ]
    }
   ],
   "source": [
    "for i, j in df['Какую цену для натурального мыла ручной работы вы считаете приемлемой? (150г)'].value_counts().items():\n",
    "    print(i, j)"
   ]
  },
  {
   "cell_type": "code",
   "execution_count": 155,
   "metadata": {},
   "outputs": [],
   "source": [
    "from collections import Counter\n",
    "\n",
    "def check_bigtext(series):\n",
    "    pass\n",
    "\n",
    "\n",
    "def value_counts(column):\n",
    "    c = Counter()\n",
    "    for row in column:\n",
    "        if isinstance(row, float):\n",
    "            continue\n",
    "        for name in row:\n",
    "            c[name] += 1\n",
    "    return pd.Series(c)\n",
    "\n",
    "def check_categories(series):\n",
    "    return len(series.unique()) <= 20\n",
    "    \n",
    "def get_separator(series):\n",
    "    sep_symbols = ';,'\n",
    "    scores = {}\n",
    "    for symbol in sep_symbols:\n",
    "        scores[symbol] = 0\n",
    "        counted_symbol = series.str.count(symbol)\n",
    "        if len(counted_symbol.unique()) < 2:\n",
    "            continue\n",
    "\n",
    "        if counted_symbol.max() != counted_symbol.min():\n",
    "            scores[symbol] += 2\n",
    "        vc = counted_symbol.value_counts()\n",
    "        if (vc[counted_symbol.max()] / len(counted_symbol) < 0.1) or (vc[counted_symbol.min()] / len(counted_symbol) < 0.1):\n",
    "            scores[symbol] -= 2\n",
    "\n",
    "        if (vc[counted_symbol.max()] / len(counted_symbol) < 0.8) and \\\n",
    "           (vc[counted_symbol.min()] / len(counted_symbol) < 0.8) and (len(vc) > 2):\n",
    "            scores[symbol] += 3\n",
    "        #TODO Add more criterias\n",
    "        \n",
    "    res = list(filter(lambda pair: pair[1] > 0, scores.items()))\n",
    "    return max(res, key=lambda x: x[1])[0] if len(res) > 0 else None "
   ]
  }
 ],
 "metadata": {
  "kernelspec": {
   "display_name": "Python 3",
   "language": "python",
   "name": "python3"
  },
  "language_info": {
   "codemirror_mode": {
    "name": "ipython",
    "version": 3
   },
   "file_extension": ".py",
   "mimetype": "text/x-python",
   "name": "python",
   "nbconvert_exporter": "python",
   "pygments_lexer": "ipython3",
   "version": "3.8.5"
  }
 },
 "nbformat": 4,
 "nbformat_minor": 4
}
